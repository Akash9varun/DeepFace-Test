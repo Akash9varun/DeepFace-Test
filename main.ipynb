{
 "cells": [
  {
   "cell_type": "code",
   "execution_count": 1,
   "id": "ce41fe5a",
   "metadata": {},
   "outputs": [],
   "source": [
    "from deepface import DeepFace\n",
    "\n"
   ]
  },
  {
   "cell_type": "code",
   "execution_count": 30,
   "id": "1e6d3fde",
   "metadata": {},
   "outputs": [],
   "source": [
    "img1_path = '1.png'\n",
    "img2_path = '7.png'"
   ]
  },
  {
   "cell_type": "code",
   "execution_count": 31,
   "id": "82d72e53",
   "metadata": {},
   "outputs": [],
   "source": [
    "model_name = 'Facenet512'"
   ]
  },
  {
   "cell_type": "code",
   "execution_count": 32,
   "id": "981b9e40",
   "metadata": {},
   "outputs": [],
   "source": [
    "resp = DeepFace.verify(img1_path = img1_path ,img2_path = img2_path, model_name = model_name )"
   ]
  },
  {
   "cell_type": "code",
   "execution_count": 33,
   "id": "1d172517",
   "metadata": {},
   "outputs": [
    {
     "data": {
      "text/plain": [
       "{'verified': False,\n",
       " 'distance': 0.989318963748747,\n",
       " 'threshold': 0.3,\n",
       " 'model': 'Facenet512',\n",
       " 'detector_backend': 'opencv',\n",
       " 'similarity_metric': 'cosine'}"
      ]
     },
     "execution_count": 33,
     "metadata": {},
     "output_type": "execute_result"
    }
   ],
   "source": [
    "resp"
   ]
  },
  {
   "cell_type": "code",
   "execution_count": 1,
   "id": "c0b951f2",
   "metadata": {},
   "outputs": [
    {
     "ename": "NameError",
     "evalue": "name 'DeepFace' is not defined",
     "output_type": "error",
     "traceback": [
      "\u001b[0;31m---------------------------------------------------------------------------\u001b[0m",
      "\u001b[0;31mNameError\u001b[0m                                 Traceback (most recent call last)",
      "Input \u001b[0;32mIn [1]\u001b[0m, in \u001b[0;36m<cell line: 1>\u001b[0;34m()\u001b[0m\n\u001b[0;32m----> 1\u001b[0m df \u001b[38;5;241m=\u001b[39m \u001b[43mDeepFace\u001b[49m\u001b[38;5;241m.\u001b[39mfind(img_path \u001b[38;5;241m=\u001b[39m \u001b[38;5;124m\"\u001b[39m\u001b[38;5;124m1.png\u001b[39m\u001b[38;5;124m\"\u001b[39m, db_path \u001b[38;5;241m=\u001b[39m \u001b[38;5;124m\"\u001b[39m\u001b[38;5;124m/Users/akashvarun/Development/deepface\u001b[39m\u001b[38;5;124m\"\u001b[39m, model_name \u001b[38;5;241m=\u001b[39m model\u001b[38;5;241m-\u001b[39mname)\n",
      "\u001b[0;31mNameError\u001b[0m: name 'DeepFace' is not defined"
     ]
    }
   ],
   "source": [
    "df = DeepFace.find(img_path = \"1.png\", db_path = \"/Users/akashvarun/Development/deepface\", model_name = model-name)\n"
   ]
  },
  {
   "cell_type": "code",
   "execution_count": null,
   "id": "cc1ed508",
   "metadata": {},
   "outputs": [],
   "source": []
  }
 ],
 "metadata": {
  "kernelspec": {
   "display_name": "Python 3 (ipykernel)",
   "language": "python",
   "name": "python3"
  },
  "language_info": {
   "codemirror_mode": {
    "name": "ipython",
    "version": 3
   },
   "file_extension": ".py",
   "mimetype": "text/x-python",
   "name": "python",
   "nbconvert_exporter": "python",
   "pygments_lexer": "ipython3",
   "version": "3.9.10"
  }
 },
 "nbformat": 4,
 "nbformat_minor": 5
}
